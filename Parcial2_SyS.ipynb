{
  "nbformat": 4,
  "nbformat_minor": 0,
  "metadata": {
    "colab": {
      "provenance": [],
      "authorship_tag": "ABX9TyNN4LOO2rDN82XCW9Guzf5H",
      "include_colab_link": true
    },
    "kernelspec": {
      "name": "python3",
      "display_name": "Python 3"
    },
    "language_info": {
      "name": "python"
    }
  },
  "cells": [
    {
      "cell_type": "markdown",
      "metadata": {
        "id": "view-in-github",
        "colab_type": "text"
      },
      "source": [
        "<a href=\"https://colab.research.google.com/github/SebasMore07/Se-ales-y-Sistemas/blob/main/Parcial2_SyS.ipynb\" target=\"_parent\"><img src=\"https://colab.research.google.com/assets/colab-badge.svg\" alt=\"Open In Colab\"/></a>"
      ]
    },
    {
      "cell_type": "markdown",
      "source": [
        "1.   Encuentre la expresion del espectro de Fourier (forma exponencial y trigonometrica) Y realice las simulaciones respectivas para graficar el espectro de Fourier del ejercicio 1 (magnitud\n",
        "y fase como diagrama de Bode en decibelios)\n",
        "2.   Sea la senal portadora\n",
        "3. Consulte en que consiste la distorsion total de armonicos (Total Harmonic Distortion-(THD)) y el factor de potencia en un circuito electrico. Como puede calcularse el THD desde la FFT?\n",
        "  1. Distorsión Total de Armónicos (THD)\n",
        "El THD mide el grado de distorsión en una señal eléctrica debido a la presencia de armónicos. Los armónicos son componentes de la señal con frecuencias que son múltiplos enteros de la frecuencia fundamental. Por ejemplo, si la frecuencia fundamental de la señal es 𝑓1, los armónicos son 2𝑓1, 3𝑓1, 4𝑓1, etc.\n",
        "El THD se define como la relación entre la potencia de todos los armónicos y la potencia de la frecuencia fundamental:\n",
        "Donde:\n",
        "\n",
        "𝑉1: Magnitud del componente de la frecuencia fundamental.\n",
        "𝑉𝑛​: Magnitud del n-ésimo armónico.\n",
        "\n",
        "Un THD alto indica una señal más distorsionada, lo cual puede generar problemas en los equipos eléctricos, como calentamiento excesivo, disminución de la eficiencia o interferencias electromagnéticas.\n",
        "\n",
        "Cálculo del THD desde la FFT\n",
        "La Transformada Rápida de Fourier (FFT) descompone una señal periódica en sus componentes de frecuencia (fundamental y armónicos). Para calcular el THD:\n",
        "\n",
        "* Realiza la FFT de la señal.\n",
        "* Identifica las amplitudes de las componentes de frecuencia: 𝑉1, 𝑉2, 𝑉3, etc.\n",
        "\n",
        "El resultado es el porcentaje de la señal que corresponde a los armónicos en relación con la fundamental.\n",
        "\n",
        "  2. Factor de Potencia\n",
        "El factor de potencia (FP) es una medida de qué tan eficientemente se usa la potencia eléctrica en un sistema. Se define como la razón entre la potencia activa (𝑃) y la potencia aparente (𝑆):"
      ],
      "metadata": {
        "id": "ej43_cmDUd_N"
      }
    },
    {
      "cell_type": "code",
      "source": [],
      "metadata": {
        "id": "YkE2XsSJW5wP"
      },
      "execution_count": null,
      "outputs": []
    }
  ]
}